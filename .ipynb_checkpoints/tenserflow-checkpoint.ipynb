{
 "cells": [
  {
   "cell_type": "markdown",
   "metadata": {},
   "source": [
    "#  了解TensorFlow"
   ]
  },
  {
   "cell_type": "code",
   "execution_count": 1,
   "metadata": {},
   "outputs": [],
   "source": [
    "import tensorflow as tf"
   ]
  },
  {
   "cell_type": "code",
   "execution_count": 2,
   "metadata": {},
   "outputs": [
    {
     "data": {
      "text/plain": [
       "array([3, 5])"
      ]
     },
     "execution_count": 2,
     "metadata": {},
     "output_type": "execute_result"
    }
   ],
   "source": [
    "import numpy as np\n",
    "a = np.array([1, 2])  # 一维数组\n",
    "b = np.array([2, 3])\n",
    "a + b"
   ]
  },
  {
   "cell_type": "code",
   "execution_count": 3,
   "metadata": {},
   "outputs": [
    {
     "data": {
      "text/plain": [
       "<tf.Tensor 'add:0' shape=(2,) dtype=int32>"
      ]
     },
     "execution_count": 3,
     "metadata": {},
     "output_type": "execute_result"
    }
   ],
   "source": [
    "# 定义计算（没有执行）\n",
    "a = tf.constant([1, 2])\n",
    "b = tf.constant([2, 3])\n",
    "my_sum = a + b\n",
    "my_sum"
   ]
  },
  {
   "cell_type": "code",
   "execution_count": 4,
   "metadata": {},
   "outputs": [
    {
     "name": "stdout",
     "output_type": "stream",
     "text": [
      "[3 5]\n"
     ]
    }
   ],
   "source": [
    "# 执行计算\n",
    "sess = tf.Session()  # 定义会话(启动会话)\n",
    "print(sess.run(my_sum))\n",
    "sess.close()  # 关闭会话"
   ]
  },
  {
   "cell_type": "code",
   "execution_count": 5,
   "metadata": {},
   "outputs": [
    {
     "name": "stdout",
     "output_type": "stream",
     "text": [
      "[3 5]\n"
     ]
    }
   ],
   "source": [
    "with tf.Session() as sess:\n",
    "    print(sess.run(my_sum))"
   ]
  },
  {
   "cell_type": "markdown",
   "metadata": {},
   "source": [
    "数据类型：Tensor\n",
    "\n",
    "* tf.constant() 常量，不会发生任何改变\n",
    "* tf.Variable() 变量，在执行计算过程会发生变化，需要初始化\n",
    "* tf.placeholder() 占位符，一般用于模型数据的输入 x 与输出 y"
   ]
  },
  {
   "cell_type": "markdown",
   "metadata": {},
   "source": [
    "# 任务一：拟合曲线\n",
    "求 y=a∗x1+b∗x2+c 里面的a、b、c"
   ]
  },
  {
   "cell_type": "markdown",
   "metadata": {},
   "source": [
    "## 读取文件"
   ]
  },
  {
   "cell_type": "code",
   "execution_count": 6,
   "metadata": {},
   "outputs": [
    {
     "data": {
      "text/html": [
       "<div>\n",
       "<style scoped>\n",
       "    .dataframe tbody tr th:only-of-type {\n",
       "        vertical-align: middle;\n",
       "    }\n",
       "\n",
       "    .dataframe tbody tr th {\n",
       "        vertical-align: top;\n",
       "    }\n",
       "\n",
       "    .dataframe thead th {\n",
       "        text-align: right;\n",
       "    }\n",
       "</style>\n",
       "<table border=\"1\" class=\"dataframe\">\n",
       "  <thead>\n",
       "    <tr style=\"text-align: right;\">\n",
       "      <th></th>\n",
       "      <th>X_1</th>\n",
       "      <th>X_2</th>\n",
       "      <th>Y</th>\n",
       "    </tr>\n",
       "  </thead>\n",
       "  <tbody>\n",
       "    <tr>\n",
       "      <th>0</th>\n",
       "      <td>0.6963</td>\n",
       "      <td>0.2861</td>\n",
       "      <td>6.250</td>\n",
       "    </tr>\n",
       "    <tr>\n",
       "      <th>1</th>\n",
       "      <td>0.2268</td>\n",
       "      <td>0.5513</td>\n",
       "      <td>6.110</td>\n",
       "    </tr>\n",
       "    <tr>\n",
       "      <th>2</th>\n",
       "      <td>0.7190</td>\n",
       "      <td>0.4230</td>\n",
       "      <td>6.707</td>\n",
       "    </tr>\n",
       "    <tr>\n",
       "      <th>3</th>\n",
       "      <td>0.9810</td>\n",
       "      <td>0.6850</td>\n",
       "      <td>8.016</td>\n",
       "    </tr>\n",
       "    <tr>\n",
       "      <th>4</th>\n",
       "      <td>0.4810</td>\n",
       "      <td>0.3920</td>\n",
       "      <td>6.137</td>\n",
       "    </tr>\n",
       "    <tr>\n",
       "      <th>5</th>\n",
       "      <td>0.3433</td>\n",
       "      <td>0.7290</td>\n",
       "      <td>6.875</td>\n",
       "    </tr>\n",
       "    <tr>\n",
       "      <th>6</th>\n",
       "      <td>0.4385</td>\n",
       "      <td>0.0597</td>\n",
       "      <td>5.055</td>\n",
       "    </tr>\n",
       "  </tbody>\n",
       "</table>\n",
       "</div>"
      ],
      "text/plain": [
       "      X_1     X_2      Y\n",
       "0  0.6963  0.2861  6.250\n",
       "1  0.2268  0.5513  6.110\n",
       "2  0.7190  0.4230  6.707\n",
       "3  0.9810  0.6850  8.016\n",
       "4  0.4810  0.3920  6.137\n",
       "5  0.3433  0.7290  6.875\n",
       "6  0.4385  0.0597  5.055"
      ]
     },
     "execution_count": 6,
     "metadata": {},
     "output_type": "execute_result"
    }
   ],
   "source": [
    "import pandas as pd\n",
    "f = r'D:\\JupyterProjects\\qingdao1907\\tensorflowPractice\\data\\lines.csv'\n",
    "f = '.\\\\data\\\\lines.csv'\n",
    "f = './data/lines.csv'\n",
    "data = pd.read_csv(f, index_col=0)\n",
    "data.head(7)  # 查看数据前7行\n",
    "# data.tail(7)  # 查看数据后7行"
   ]
  },
  {
   "cell_type": "markdown",
   "metadata": {},
   "source": [
    "windows下三种工作路径写法\n",
    "\n",
    "* 'C:\\\\Users\\\\45543\\\\Desktop\\\\201901培训'\n",
    "* 'C:/Users/45543/Desktop/201901培训'\n",
    "* r'C:\\Users\\45543\\Desktop\\201901培训' # raw material"
   ]
  },
  {
   "cell_type": "markdown",
   "metadata": {},
   "source": [
    "## 构造线性模型\n",
    "y=a∗x1+b∗x2+c"
   ]
  },
  {
   "cell_type": "code",
   "execution_count": 7,
   "metadata": {},
   "outputs": [],
   "source": [
    "# 数据节点\n",
    "x_1 = tf.placeholder(tf.float32)\n",
    "x_2 = tf.placeholder(tf.float32)\n",
    "y_real = tf.placeholder(tf.float32)\n",
    "\n",
    "a = tf.Variable([0], dtype=tf.float32)\n",
    "b = tf.Variable([0], dtype=tf.float32)\n",
    "c = tf.Variable([0], dtype=tf.float32)"
   ]
  },
  {
   "cell_type": "code",
   "execution_count": 8,
   "metadata": {},
   "outputs": [],
   "source": [
    "y_pre = a*x_1 + b*x_2 + c  # 计算节点"
   ]
  },
  {
   "cell_type": "markdown",
   "metadata": {},
   "source": [
    "##  定义损失函数，最小化方差"
   ]
  },
  {
   "cell_type": "code",
   "execution_count": 9,
   "metadata": {},
   "outputs": [],
   "source": [
    "loss = tf.reduce_mean(\n",
    "    tf.square(y_pre - y_real)\n",
    ")  # 损失函数\n",
    "lr = 0.05  # 学习率\n",
    "# 优化器\n",
    "opt = tf.train.GradientDescentOptimizer(lr)\n",
    "train_op = opt.minimize(loss)  # 最小化损失函数"
   ]
  },
  {
   "cell_type": "markdown",
   "metadata": {},
   "source": [
    "## 执行计算图\n",
    "y=2∗x1+3∗x2+4"
   ]
  },
  {
   "cell_type": "code",
   "execution_count": 10,
   "metadata": {},
   "outputs": [
    {
     "name": "stdout",
     "output_type": "stream",
     "text": [
      "[array([0.3313334], dtype=float32), array([0.3557744], dtype=float32), array([0.652867], dtype=float32)] 43.411983\n",
      "[array([1.9687597], dtype=float32), array([2.791556], dtype=float32), array([4.127519], dtype=float32)] 0.0029993646\n",
      "[array([1.9628719], dtype=float32), array([2.925966], dtype=float32), array([4.058332], dtype=float32)] 0.00042107803\n",
      "[array([1.9782832], dtype=float32), array([2.9698544], dtype=float32), array([4.0268893], dtype=float32)] 8.158611e-05\n",
      "[array([1.9888612], dtype=float32), array([2.986413], dtype=float32), array([4.0125947], dtype=float32)] 1.891336e-05\n"
     ]
    }
   ],
   "source": [
    "init = tf.global_variables_initializer()\n",
    "with tf.Session() as sess:\n",
    "    sess.run(init)  # 全局变量初始化\n",
    "    for i in range(1000):\n",
    "        _, cost = sess.run(\n",
    "            [train_op, loss], \n",
    "            feed_dict={\n",
    "                       x_1: data['X_1'],\n",
    "                       x_2: data['X_2'],\n",
    "                       y_real: data['Y']\n",
    "                      })\n",
    "        if i % 200 == 0:\n",
    "            print(sess.run([a, b, c]), cost)"
   ]
  },
  {
   "cell_type": "markdown",
   "metadata": {},
   "source": [
    "# 任务二：利用softmax对MNIST手写字体进行识别\n"
   ]
  },
  {
   "cell_type": "markdown",
   "metadata": {},
   "source": [
    "## 读取MNIST文件，并展示"
   ]
  },
  {
   "cell_type": "code",
   "execution_count": null,
   "metadata": {},
   "outputs": [],
   "source": [
    "# 读取文件\n",
    "#from tensorflow.examples.tutorials.mnist import input_data\n",
    "#mnist = input_data.read_data_sets( './data/MNIST_data/', one_hot=True)"
   ]
  },
  {
   "cell_type": "code",
   "execution_count": 6,
   "metadata": {},
   "outputs": [
    {
     "name": "stdout",
     "output_type": "stream",
     "text": [
      "Extracting ./data/MNIST_data/train-images-idx3-ubyte.gz\n",
      "Extracting ./data/MNIST_data/train-labels-idx1-ubyte.gz\n",
      "Extracting ./data/MNIST_data/t10k-images-idx3-ubyte.gz\n",
      "Extracting ./data/MNIST_data/t10k-labels-idx1-ubyte.gz\n"
     ]
    }
   ],
   "source": [
    "# 读取文件\n",
    "from tensorflow.contrib.learn.python.learn.datasets.mnist import read_data_sets\n",
    "mnist = read_data_sets( './data/MNIST_data/', one_hot=True)"
   ]
  },
  {
   "cell_type": "code",
   "execution_count": 4,
   "metadata": {},
   "outputs": [
    {
     "name": "stdout",
     "output_type": "stream",
     "text": [
      "(55000, 784)\n",
      "(55000, 10)\n"
     ]
    }
   ],
   "source": [
    "# 打印训练集数据的大小\n",
    "print(mnist.train.images.shape)\n",
    "print(mnist.train.labels.shape)"
   ]
  },
  {
   "cell_type": "code",
   "execution_count": 8,
   "metadata": {},
   "outputs": [
    {
     "data": {
      "image/png": "[encoded data removed]",
      "text/plain": [
       "<Figure size 432x288 with 9 Axes>"
      ]
     },
     "metadata": {},
     "output_type": "display_data"
    },
    {
     "data": {
      "text/plain": [
       "array([7, 3, 4, 6, 1, 8, 1, 0, 9], dtype=int64)"
      ]
     },
     "execution_count": 8,
     "metadata": {},
     "output_type": "execute_result"
    }
   ],
   "source": [
    "# MNIST手写字体的图形展示\n",
    "import matplotlib.pyplot as plt\n",
    "import numpy as np\n",
    "for i in range(9):\n",
    "    im = mnist.train.images[i].reshape(28, 28)\n",
    "    plt.subplot(3, 3, i+1)\n",
    "    plt.imshow(im)\n",
    "plt.show()\n",
    "np.argmax(mnist.train.labels[:9, :], axis=1)"
   ]
  },
  {
   "cell_type": "code",
   "execution_count": 9,
   "metadata": {},
   "outputs": [
    {
     "name": "stdout",
     "output_type": "stream",
     "text": [
      "原始数据： [0 0 0 0 0 0 0 0 0 0 0 0 0 0 0 0 0 0 0 0 0 0 0 0 0 0 0 0 0 0 0 0 0 0 0 0 0\n",
      " 0 0 0 0 0 0 0 0 0 0 0 0 0 1 1 1 1 1 1 1 1 1 1 1 1 1 1 1 1 1 1 1 1 1 1 1 1\n",
      " 1 1 1 1 1 1 1 1 1 1 1 1 1 1 1 1 1 1 1 1 1 1 1 1 1 1 2 2 2 2 2 2 2 2 2 2 2\n",
      " 2 2 2 2 2 2 2 2 2 2 2 2 2 2 2 2 2 2 2 2 2 2 2 2 2 2 2 2 2 2 2 2 2 2 2 2 2\n",
      " 2 2]\n",
      "独热编码结果展示：\n",
      " [[1. 0. 0.]\n",
      " [1. 0. 0.]\n",
      " [1. 0. 0.]\n",
      " [1. 0. 0.]\n",
      " [1. 0. 0.]\n",
      " [1. 0. 0.]\n",
      " [1. 0. 0.]\n",
      " [1. 0. 0.]\n",
      " [1. 0. 0.]\n",
      " [1. 0. 0.]\n",
      " [1. 0. 0.]\n",
      " [1. 0. 0.]\n",
      " [1. 0. 0.]\n",
      " [1. 0. 0.]\n",
      " [1. 0. 0.]\n",
      " [1. 0. 0.]\n",
      " [1. 0. 0.]\n",
      " [1. 0. 0.]\n",
      " [1. 0. 0.]\n",
      " [1. 0. 0.]\n",
      " [1. 0. 0.]\n",
      " [1. 0. 0.]\n",
      " [1. 0. 0.]\n",
      " [1. 0. 0.]\n",
      " [1. 0. 0.]\n",
      " [1. 0. 0.]\n",
      " [1. 0. 0.]\n",
      " [1. 0. 0.]\n",
      " [1. 0. 0.]\n",
      " [1. 0. 0.]\n",
      " [1. 0. 0.]\n",
      " [1. 0. 0.]\n",
      " [1. 0. 0.]\n",
      " [1. 0. 0.]\n",
      " [1. 0. 0.]\n",
      " [1. 0. 0.]\n",
      " [1. 0. 0.]\n",
      " [1. 0. 0.]\n",
      " [1. 0. 0.]\n",
      " [1. 0. 0.]\n",
      " [1. 0. 0.]\n",
      " [1. 0. 0.]\n",
      " [1. 0. 0.]\n",
      " [1. 0. 0.]\n",
      " [1. 0. 0.]\n",
      " [1. 0. 0.]\n",
      " [1. 0. 0.]\n",
      " [1. 0. 0.]\n",
      " [1. 0. 0.]\n",
      " [1. 0. 0.]\n",
      " [0. 1. 0.]\n",
      " [0. 1. 0.]\n",
      " [0. 1. 0.]\n",
      " [0. 1. 0.]\n",
      " [0. 1. 0.]\n",
      " [0. 1. 0.]\n",
      " [0. 1. 0.]\n",
      " [0. 1. 0.]\n",
      " [0. 1. 0.]\n",
      " [0. 1. 0.]\n",
      " [0. 1. 0.]\n",
      " [0. 1. 0.]\n",
      " [0. 1. 0.]\n",
      " [0. 1. 0.]\n",
      " [0. 1. 0.]\n",
      " [0. 1. 0.]\n",
      " [0. 1. 0.]\n",
      " [0. 1. 0.]\n",
      " [0. 1. 0.]\n",
      " [0. 1. 0.]\n",
      " [0. 1. 0.]\n",
      " [0. 1. 0.]\n",
      " [0. 1. 0.]\n",
      " [0. 1. 0.]\n",
      " [0. 1. 0.]\n",
      " [0. 1. 0.]\n",
      " [0. 1. 0.]\n",
      " [0. 1. 0.]\n",
      " [0. 1. 0.]\n",
      " [0. 1. 0.]\n",
      " [0. 1. 0.]\n",
      " [0. 1. 0.]\n",
      " [0. 1. 0.]\n",
      " [0. 1. 0.]\n",
      " [0. 1. 0.]\n",
      " [0. 1. 0.]\n",
      " [0. 1. 0.]\n",
      " [0. 1. 0.]\n",
      " [0. 1. 0.]\n",
      " [0. 1. 0.]\n",
      " [0. 1. 0.]\n",
      " [0. 1. 0.]\n",
      " [0. 1. 0.]\n",
      " [0. 1. 0.]\n",
      " [0. 1. 0.]\n",
      " [0. 1. 0.]\n",
      " [0. 1. 0.]\n",
      " [0. 1. 0.]\n",
      " [0. 1. 0.]\n",
      " [0. 1. 0.]\n",
      " [0. 0. 1.]\n",
      " [0. 0. 1.]\n",
      " [0. 0. 1.]\n",
      " [0. 0. 1.]\n",
      " [0. 0. 1.]\n",
      " [0. 0. 1.]\n",
      " [0. 0. 1.]\n",
      " [0. 0. 1.]\n",
      " [0. 0. 1.]\n",
      " [0. 0. 1.]\n",
      " [0. 0. 1.]\n",
      " [0. 0. 1.]\n",
      " [0. 0. 1.]\n",
      " [0. 0. 1.]\n",
      " [0. 0. 1.]\n",
      " [0. 0. 1.]\n",
      " [0. 0. 1.]\n",
      " [0. 0. 1.]\n",
      " [0. 0. 1.]\n",
      " [0. 0. 1.]\n",
      " [0. 0. 1.]\n",
      " [0. 0. 1.]\n",
      " [0. 0. 1.]\n",
      " [0. 0. 1.]\n",
      " [0. 0. 1.]\n",
      " [0. 0. 1.]\n",
      " [0. 0. 1.]\n",
      " [0. 0. 1.]\n",
      " [0. 0. 1.]\n",
      " [0. 0. 1.]\n",
      " [0. 0. 1.]\n",
      " [0. 0. 1.]\n",
      " [0. 0. 1.]\n",
      " [0. 0. 1.]\n",
      " [0. 0. 1.]\n",
      " [0. 0. 1.]\n",
      " [0. 0. 1.]\n",
      " [0. 0. 1.]\n",
      " [0. 0. 1.]\n",
      " [0. 0. 1.]\n",
      " [0. 0. 1.]\n",
      " [0. 0. 1.]\n",
      " [0. 0. 1.]\n",
      " [0. 0. 1.]\n",
      " [0. 0. 1.]\n",
      " [0. 0. 1.]\n",
      " [0. 0. 1.]\n",
      " [0. 0. 1.]\n",
      " [0. 0. 1.]\n",
      " [0. 0. 1.]]\n"
     ]
    }
   ],
   "source": [
    "# 独热编码展示\n",
    "import tensorflow as tf\n",
    "from sklearn.datasets import load_iris\n",
    "iris = load_iris()\n",
    "print('原始数据：', iris['target'])\n",
    "x = tf.placeholder(tf.int32)\n",
    "with tf.Session() as sess:\n",
    "    print('独热编码结果展示：\\n', \n",
    "        sess.run(\n",
    "        tf.one_hot(x, depth=3), \n",
    "        feed_dict={x:iris['target']}\n",
    "    ))"
   ]
  },
  {
   "cell_type": "markdown",
   "metadata": {},
   "source": [
    "## 定义计算图\n",
    "定义tensor"
   ]
  },
  {
   "cell_type": "code",
   "execution_count": 10,
   "metadata": {},
   "outputs": [],
   "source": [
    "tf.reset_default_graph()  # 重置默认计算图\n",
    "input_size = 784  # 输入层神经元个数\n",
    "output_size = 10  # 输出层神经元个数\n",
    "x = tf.placeholder(tf.float32, [None, input_size])\n",
    "y_real = tf.placeholder(tf.float32, [None, output_size])\n",
    "w = tf.Variable(\n",
    "    tf.zeros([input_size, output_size], dtype=tf.float32)\n",
    ")\n",
    "b = tf.Variable(\n",
    "    tf.zeros([output_size], dtype=tf.float32)\n",
    ")"
   ]
  },
  {
   "cell_type": "markdown",
   "metadata": {},
   "source": [
    "计算图构建"
   ]
  },
  {
   "cell_type": "code",
   "execution_count": 11,
   "metadata": {},
   "outputs": [],
   "source": [
    "y_pre = tf.nn.softmax(tf.matmul(x, w) - b)\n",
    "loss = tf.reduce_mean(\n",
    "    - tf.reduce_sum(y_real * tf.log(y_pre), \n",
    "                    axis=1)\n",
    ")  # 损失函数：交叉熵损失函数\n",
    "lr = 0.02  # 学习率learning-rate\n",
    "# 优化器\n",
    "opt = tf.train.GradientDescentOptimizer(lr)\n",
    "train_op = opt.minimize(loss)"
   ]
  },
  {
   "cell_type": "code",
   "execution_count": 12,
   "metadata": {},
   "outputs": [],
   "source": [
    "a1 = tf.argmax(y_pre, axis=1)\n",
    "a2 = tf.argmax(y_real, axis=1)\n",
    "c = tf.cast(tf.equal(a1, a2), 'float')\n",
    "acc = tf.reduce_mean(c)"
   ]
  },
  {
   "cell_type": "markdown",
   "metadata": {},
   "source": [
    "## 执行计算"
   ]
  },
  {
   "cell_type": "code",
   "execution_count": 13,
   "metadata": {},
   "outputs": [
    {
     "name": "stdout",
     "output_type": "stream",
     "text": [
      "第0次 损失值为2.280778408050537 正确率为31.03%\n",
      "第100次 损失值为1.1693542003631592 正确率为81.00%\n",
      "第200次 损失值为0.8556986451148987 正确率为83.49%\n",
      "第300次 损失值为0.7150901556015015 正确率为85.69%\n",
      "第400次 损失值为0.6357974410057068 正确率为86.60%\n",
      "第500次 损失值为0.5850017666816711 正确率为87.15%\n",
      "第600次 损失值为0.5478724837303162 正确率为87.57%\n",
      "第700次 损失值为0.5213122963905334 正确率为87.97%\n",
      "第800次 损失值为0.4983038008213043 正确率为88.14%\n",
      "第900次 损失值为0.4816811978816986 正确率为88.28%\n"
     ]
    }
   ],
   "source": [
    "with tf.Session() as sess:\n",
    "    # 全局变量初始化\n",
    "    sess.run(tf.global_variables_initializer())\n",
    "    for i in range(1000):\n",
    "        tmp = mnist.train.next_batch(100)\n",
    "        _, cost, score = sess.run(\n",
    "            [train_op, loss, acc], feed_dict={\n",
    "                x: tmp[0],\n",
    "                y_real: tmp[1]\n",
    "            }\n",
    "        )\n",
    "        if i % 100 == 0:\n",
    "            cost2, score2 = sess.run(\n",
    "                [loss, acc], feed_dict={\n",
    "                    x: mnist.test.images,\n",
    "                    y_real: mnist.test.labels\n",
    "                }\n",
    "            )\n",
    "#             print(i, cost2, score2)\n",
    "#             print('第{}次 损失值为{} 正确率为{}'.format(i, cost2, score2))\n",
    "            print(f'第{i}次 损失值为{cost2} 正确率为{score2*100:.2f}%')"
   ]
  },
  {
   "cell_type": "code",
   "execution_count": 14,
   "metadata": {},
   "outputs": [
    {
     "name": "stdout",
     "output_type": "stream",
     "text": [
      "[4 3 4 3 5]\n",
      "[6 2 2 6 4]\n",
      "[0 1 0 2 4]\n",
      "[4 5 4 1 7]\n",
      "[2 5 5 3 9]\n",
      "[7 8 3 3 8]\n",
      "[5 4 7 3 4]\n",
      "[4 9 1 2 9]\n",
      "[5 6 3 9 7]\n",
      "[4 1 1 7 4]\n"
     ]
    }
   ],
   "source": [
    "mnist.train.labels.shape\n",
    "for i in range(10):\n",
    "    a = mnist.train.next_batch(5)\n",
    "    print(np.argmax(a[1], axis=1))"
   ]
  },
  {
   "cell_type": "markdown",
   "metadata": {},
   "source": [
    "# 任务三：利用BP神经网络进行鸢尾花数据集分类\n",
    "## 获取数据，并划分数据集"
   ]
  },
  {
   "cell_type": "code",
   "execution_count": 15,
   "metadata": {},
   "outputs": [
    {
     "name": "stdout",
     "output_type": "stream",
     "text": [
      "dict_keys(['data', 'target', 'target_names', 'DESCR', 'feature_names', 'filename'])\n"
     ]
    }
   ],
   "source": [
    "# 获取鸢尾花数据集\n",
    "from sklearn.datasets import load_iris\n",
    "iris = load_iris()\n",
    "print(iris.keys())\n",
    "x_data = iris['data']\n",
    "y_data = iris['target']"
   ]
  },
  {
   "cell_type": "code",
   "execution_count": 16,
   "metadata": {},
   "outputs": [
    {
     "name": "stdout",
     "output_type": "stream",
     "text": [
      "(120, 4)\n",
      "(30, 4)\n",
      "(120,)\n",
      "(30,)\n"
     ]
    }
   ],
   "source": [
    "# 划分训练集、测试集\n",
    "from sklearn.model_selection import train_test_split\n",
    "\n",
    "x_train, x_test, y_train, y_test = train_test_split(\n",
    "    x_data, y_data,\n",
    "    test_size=0.2,  # 训练集：测试集=8:2\n",
    "    random_state=123  # 随机种子\n",
    ")\n",
    "print(x_train.shape)\n",
    "print(x_test.shape)\n",
    "print(y_train.shape)\n",
    "print(y_test.shape)"
   ]
  },
  {
   "cell_type": "markdown",
   "metadata": {},
   "source": [
    "## 计算图构建"
   ]
  },
  {
   "cell_type": "code",
   "execution_count": 17,
   "metadata": {},
   "outputs": [],
   "source": [
    "import tensorflow as tf\n",
    "tf.reset_default_graph()  # 重置默认计算图\n",
    "\n",
    "# 定义基本参数\n",
    "input_size = 4  # 输入层神经元个数\n",
    "output_size = 3  # 输出层神经元个数\n",
    "hidden_size = 8  # 隐层神经元个数\n",
    "lr = 0.1  # 学习率, 0.001-0.0001\n",
    "\n",
    "# 定义tensor\n",
    "x = tf.placeholder(tf.float32, [None, input_size])\n",
    "y = tf.placeholder(tf.int64)\n",
    "y_real = tf.one_hot(y, depth=output_size, \n",
    "                    dtype=tf.float32)\n",
    "\n",
    "# input layer --> hidden layer\n",
    "v = tf.Variable(\n",
    "    tf.zeros([input_size, hidden_size],\n",
    "             dtype=tf.float32)\n",
    ")\n",
    "b1 = tf.Variable(\n",
    "    tf.zeros([hidden_size], dtype=tf.float32)\n",
    ")\n",
    "# hidden layer --> output layer\n",
    "w = tf.Variable(\n",
    "    tf.zeros([hidden_size, output_size],\n",
    "             dtype=tf.float32)\n",
    ")\n",
    "b2 = tf.Variable(\n",
    "    tf.zeros([output_size], dtype=tf.float32)\n",
    ")"
   ]
  },
  {
   "cell_type": "code",
   "execution_count": 18,
   "metadata": {},
   "outputs": [],
   "source": [
    "# 隐层神经元的输出\n",
    "hidden_out = tf.sigmoid(tf.matmul(x, v) - b1)\n",
    "\n",
    "# 输出层的输出\n",
    "y_pre = tf.nn.softmax(\n",
    "    tf.matmul(hidden_out, w) - b2\n",
    ")\n",
    "# 损失函数\n",
    "loss = tf.reduce_mean(\n",
    "    -tf.reduce_sum(y_real * tf.log(y_pre), axis=1)\n",
    ")\n",
    "# 优化器\n",
    "opt = tf.train.GradientDescentOptimizer(lr)\n",
    "# 训练节点\n",
    "train_op = opt.minimize(loss)"
   ]
  },
  {
   "cell_type": "code",
   "execution_count": 19,
   "metadata": {},
   "outputs": [],
   "source": [
    "# 计算正确率\n",
    "tmp = tf.equal(\n",
    "    tf.argmax(y_pre, axis=1), y\n",
    ")  # 判断预测值和真实值是否相等\n",
    "acc = tf.reduce_mean(tf.cast(tmp, 'float'))"
   ]
  },
  {
   "cell_type": "code",
   "execution_count": 20,
   "metadata": {},
   "outputs": [
    {
     "name": "stdout",
     "output_type": "stream",
     "text": [
      "[[0. 0. 1.]\n",
      " [0. 0. 1.]\n",
      " [1. 0. 0.]\n",
      " [1. 0. 0.]\n",
      " [0. 1. 0.]]\n"
     ]
    }
   ],
   "source": [
    "# 查看独热编码后的结果\n",
    "with tf.Session() as sess:\n",
    "    print(sess.run(y_real, \n",
    "                   feed_dict={y: y_train[:5]}))"
   ]
  },
  {
   "cell_type": "markdown",
   "metadata": {},
   "source": [
    "## 执行计算图"
   ]
  },
  {
   "cell_type": "code",
   "execution_count": 21,
   "metadata": {},
   "outputs": [
    {
     "name": "stdout",
     "output_type": "stream",
     "text": [
      "1.1008061 0.2\n",
      "1.1035699 0.2\n",
      "0.644962 0.8333333\n",
      "0.42549452 0.8666667\n",
      "0.3551818 0.96666664\n"
     ]
    }
   ],
   "source": [
    "with tf.Session() as sess:\n",
    "    sess.run(tf.global_variables_initializer())\n",
    "    \n",
    "    for i in range(1000):\n",
    "        sess.run(train_op, feed_dict={\n",
    "            x: x_train, y: y_train\n",
    "        })\n",
    "        \n",
    "        if i % 200 == 0:\n",
    "            cost, score = sess.run(\n",
    "                [loss, acc], feed_dict={\n",
    "                    x: x_test, y: y_test\n",
    "                }\n",
    "            )\n",
    "            print(cost, score)\n",
    "        y_ = sess.run(y_pre,\n",
    "                      feed_dict={x: x_test})"
   ]
  },
  {
   "cell_type": "markdown",
   "metadata": {},
   "source": [
    "## 分类问题评估"
   ]
  },
  {
   "cell_type": "code",
   "execution_count": 22,
   "metadata": {},
   "outputs": [
    {
     "data": {
      "text/plain": [
       "array([2, 2, 2, 1, 0, 2, 1, 0, 0, 1, 2, 0, 1, 2, 2, 2, 0, 0, 1, 0, 0, 2,\n",
       "       0, 2, 0, 0, 0, 2, 2, 0], dtype=int64)"
      ]
     },
     "execution_count": 22,
     "metadata": {},
     "output_type": "execute_result"
    }
   ],
   "source": [
    "import numpy as np\n",
    "np.argmax(y_, axis=1)  # 查看预测值"
   ]
  },
  {
   "cell_type": "code",
   "execution_count": 23,
   "metadata": {},
   "outputs": [
    {
     "data": {
      "text/plain": [
       "array([1, 2, 2, 1, 0, 2, 1, 0, 0, 1, 2, 0, 1, 2, 2, 2, 0, 0, 1, 0, 0, 2,\n",
       "       0, 2, 0, 0, 0, 2, 2, 0])"
      ]
     },
     "execution_count": 23,
     "metadata": {},
     "output_type": "execute_result"
    }
   ],
   "source": [
    "y_test  # 真实值"
   ]
  },
  {
   "cell_type": "code",
   "execution_count": 24,
   "metadata": {},
   "outputs": [
    {
     "data": {
      "text/plain": [
       "array([[13,  0,  0],\n",
       "       [ 0,  5,  1],\n",
       "       [ 0,  0, 11]], dtype=int64)"
      ]
     },
     "execution_count": 24,
     "metadata": {},
     "output_type": "execute_result"
    }
   ],
   "source": [
    "# 混淆矩阵\n",
    "from sklearn.metrics import confusion_matrix\n",
    "confusion_matrix(y_test, \n",
    "                 np.argmax(y_, axis=1))"
   ]
  },
  {
   "cell_type": "code",
   "execution_count": 25,
   "metadata": {},
   "outputs": [
    {
     "name": "stdout",
     "output_type": "stream",
     "text": [
      "              precision    recall  f1-score   support\n",
      "\n",
      "           0       1.00      1.00      1.00        13\n",
      "           1       1.00      0.83      0.91         6\n",
      "           2       0.92      1.00      0.96        11\n",
      "\n",
      "   micro avg       0.97      0.97      0.97        30\n",
      "   macro avg       0.97      0.94      0.96        30\n",
      "weighted avg       0.97      0.97      0.97        30\n",
      "\n"
     ]
    }
   ],
   "source": [
    "# 查准率、查全率、F1值\n",
    "from sklearn.metrics import classification_report\n",
    "print(classification_report(y_test,\n",
    "                            np.argmax(y_, axis=1)))"
   ]
  },
  {
   "cell_type": "code",
   "execution_count": null,
   "metadata": {},
   "outputs": [],
   "source": []
  },
  {
   "cell_type": "code",
   "execution_count": null,
   "metadata": {},
   "outputs": [],
   "source": []
  }
 ],
 "metadata": {
  "kernelspec": {
   "display_name": "Analysis",
   "language": "python",
   "name": "analysis"
  },
  "language_info": {
   "codemirror_mode": {
    "name": "ipython",
    "version": 3
   },
   "file_extension": ".py",
   "mimetype": "text/x-python",
   "name": "python",
   "nbconvert_exporter": "python",
   "pygments_lexer": "ipython3",
   "version": "3.6.2"
  },
  "toc": {
   "base_numbering": 1,
   "nav_menu": {},
   "number_sections": true,
   "sideBar": true,
   "skip_h1_title": false,
   "title_cell": "Table of Contents",
   "title_sidebar": "Contents",
   "toc_cell": false,
   "toc_position": {},
   "toc_section_display": true,
   "toc_window_display": true
  },
  "varInspector": {
   "cols": {
    "lenName": 16,
    "lenType": 16,
    "lenVar": 40
   },
   "kernels_config": {
    "python": {
     "delete_cmd_postfix": "",
     "delete_cmd_prefix": "del ",
     "library": "var_list.py",
     "varRefreshCmd": "print(var_dic_list())"
    },
    "r": {
     "delete_cmd_postfix": ") ",
     "delete_cmd_prefix": "rm(",
     "library": "var_list.r",
     "varRefreshCmd": "cat(var_dic_list()) "
    }
   },
   "types_to_exclude": [
    "module",
    "function",
    "builtin_function_or_method",
    "instance",
    "_Feature"
   ],
   "window_display": false
  }
 },
 "nbformat": 4,
 "nbformat_minor": 2
}
